{
  "cells": [
    {
      "cell_type": "markdown",
      "metadata": {
        "id": "view-in-github",
        "colab_type": "text"
      },
      "source": [
        "<a href=\"https://colab.research.google.com/github/abdelmageed1/Hours_Scores_student/blob/main/Hours_Scores_student_.ipynb\" target=\"_parent\"><img src=\"https://colab.research.google.com/assets/colab-badge.svg\" alt=\"Open In Colab\"/></a>"
      ]
    },
    {
      "cell_type": "code",
      "source": [
        "import numpy as np\n",
        "import matplotlib.pyplot as plt\n",
        "import pandas as pd\n"
      ],
      "metadata": {
        "id": "wFZhYXOcmaO7"
      },
      "execution_count": 94,
      "outputs": []
    },
    {
      "cell_type": "code",
      "source": [
        "data = pd.read_csv('student_scores.csv')\n",
        "print(data)"
      ],
      "metadata": {
        "id": "2RwXZG3Pmct3",
        "colab": {
          "base_uri": "https://localhost:8080/"
        },
        "outputId": "52e3a2cc-9052-4d89-fae7-f2ce0340b663"
      },
      "execution_count": 95,
      "outputs": [
        {
          "output_type": "stream",
          "name": "stdout",
          "text": [
            "    Hours  Scores\n",
            "0     2.5      21\n",
            "1     5.1      47\n",
            "2     3.2      27\n",
            "3     8.5      75\n",
            "4     3.5      30\n",
            "5     1.5      20\n",
            "6     9.2      88\n",
            "7     5.5      60\n",
            "8     8.3      81\n",
            "9     2.7      25\n",
            "10    7.7      85\n",
            "11    5.9      62\n",
            "12    4.5      41\n",
            "13    3.3      42\n",
            "14    1.1      17\n",
            "15    8.9      95\n",
            "16    2.5      30\n",
            "17    1.9      24\n",
            "18    6.1      67\n",
            "19    7.4      69\n",
            "20    2.7      30\n",
            "21    4.8      54\n",
            "22    3.8      35\n",
            "23    6.9      76\n",
            "24    7.8      86\n"
          ]
        }
      ]
    },
    {
      "cell_type": "code",
      "source": [
        "x = data['Hours'].values\n",
        "y = data['Scores'].values\n",
        "print('x = ',x.shape)\n",
        "print()\n",
        "print('y = ', y.shape)\n",
        "print()\n",
        "print(data.shape)\n",
        "print(type(data))\n",
        "\n"
      ],
      "metadata": {
        "id": "D-QLyfLqH1F2",
        "colab": {
          "base_uri": "https://localhost:8080/"
        },
        "outputId": "9f5cbbb6-bc98-4de1-9e82-934fcabdd64c"
      },
      "execution_count": 96,
      "outputs": [
        {
          "output_type": "stream",
          "name": "stdout",
          "text": [
            "x =  (25,)\n",
            "\n",
            "y =  (25,)\n",
            "\n",
            "(25, 2)\n",
            "<class 'pandas.core.frame.DataFrame'>\n"
          ]
        }
      ]
    },
    {
      "cell_type": "code",
      "source": [
        "#visualization\n",
        "plt.figure(figsize=(6,4))\n",
        "plt.scatter(x,y,marker='v' , c='red')\n",
        "plt.xlabel(\"Hours\")\n",
        "plt.ylabel('Scores')\n",
        "plt.title(\"Abdelmageed \")\n",
        "plt.show()"
      ],
      "metadata": {
        "colab": {
          "base_uri": "https://localhost:8080/",
          "height": 410
        },
        "id": "bcBjJ1sKNlaV",
        "outputId": "900256c7-d839-4627-b141-4e3d3b4fe045"
      },
      "execution_count": 97,
      "outputs": [
        {
          "output_type": "display_data",
          "data": {
            "text/plain": [
              "<Figure size 600x400 with 1 Axes>"
            ],
            "image/png": "[encoded data removed]"
          },
          "metadata": {}
        }
      ]
    },
    {
      "cell_type": "code",
      "source": [
        "# HyperParameter\n",
        "L_rate = 0.001\n",
        "iteration = 100"
      ],
      "metadata": {
        "id": "P3_jWNzUPF-K"
      },
      "execution_count": 98,
      "outputs": []
    },
    {
      "cell_type": "code",
      "source": [
        "# initalize\n",
        "theta_1 = 0\n",
        "theta_0 = 0\n",
        "\n",
        "\n",
        "# num of row \n",
        "n = x.shape[0]\n",
        "\n",
        "\n",
        "# an empty list to store the MSE error  in each iteration\n",
        "losses = []\n",
        "\n",
        "for i in range(iteration):\n",
        "  # تحديد الموديل  المعادلة الخطية\n",
        "  h_x = theta_0 + theta_1 * x \n",
        "\n",
        "\n",
        "  # caclulate MSE\n",
        "  mse = (1/n) * np.sum((h_x - y)**2)\n",
        "  # كل لفة بخزن قيمة الايرور\n",
        "  losses.append(mse)\n",
        "\n",
        "  # Derivative الاشتقاق\n",
        "  d_theta0 = (2/n) * np.sum(h_x - y)\n",
        "  d_theta1 = (2/n) * np.sum((h_x - y)* x)\n",
        "\n",
        "  # value update\n",
        "  theta_1 = theta_1 - L_rate * d_theta1\n",
        "  theta_0 = theta_0 - L_rate * d_theta0\n",
        "    \n",
        "\n",
        "\n",
        "  \n",
        "\n",
        "\n"
      ],
      "metadata": {
        "id": "eR0igL-ZWceg"
      },
      "execution_count": 99,
      "outputs": []
    },
    {
      "cell_type": "code",
      "source": [
        "print('theta_0 = ' , theta_0)\n",
        "print('theta_1 = ' , theta_1)\n",
        "print('mse = ' , mse)"
      ],
      "metadata": {
        "id": "kVd7gmtBfUE_",
        "colab": {
          "base_uri": "https://localhost:8080/"
        },
        "outputId": "3ed22e87-8727-4ae9-edc3-e8adc1f1f7f1"
      },
      "execution_count": 100,
      "outputs": [
        {
          "output_type": "stream",
          "name": "stdout",
          "text": [
            "theta_0 =  1.6319314519606551\n",
            "theta_1 =  9.899781960077645\n",
            "mse =  29.03079707017498\n"
          ]
        }
      ]
    },
    {
      "cell_type": "code",
      "source": [
        "# predict the score of new student\n",
        "new_x = 9\n",
        "\n",
        "prediction_Model = theta_0 + theta_1 *new_x\n",
        "print('Score : ', prediction_Model)\n"
      ],
      "metadata": {
        "colab": {
          "base_uri": "https://localhost:8080/"
        },
        "id": "VdMrTDneklxe",
        "outputId": "d0313fcb-1c8f-43ae-fc7e-dccabedcaf25"
      },
      "execution_count": 101,
      "outputs": [
        {
          "output_type": "stream",
          "name": "stdout",
          "text": [
            "Score :  90.72996909265946\n"
          ]
        }
      ]
    },
    {
      "cell_type": "code",
      "source": [
        "# x_line = np.linspace(0,10,100)\n",
        "# y_line = theta_0 + theta_1*x_line\n",
        "# plt.figure(figsize=(8,6))\n",
        "# \n",
        "\n",
        "x_line = np.linspace(0,10,100)\n",
        "y_line = theta_0 + theta_1 * x_line\n",
        "plt.title('Data distribution')\n",
        "plt.plot(x_line, y_line, c='r')\n",
        "plt.scatter(x, y, s=10)\n",
        "plt.xlabel('hours')\n",
        "plt.ylabel('score')\n",
        "plt.show()"
      ],
      "metadata": {
        "colab": {
          "base_uri": "https://localhost:8080/",
          "height": 472
        },
        "id": "CtiW7TpFmrVP",
        "outputId": "e19cafc1-dc6d-43e5-84ec-78cecf47dfb7"
      },
      "execution_count": 107,
      "outputs": [
        {
          "output_type": "display_data",
          "data": {
            "text/plain": [
              "<Figure size 640x480 with 1 Axes>"
            ],
            "image/png": "[encoded data removed]"
          },
          "metadata": {}
        }
      ]
    }
  ],
  "metadata": {
    "colab": {
      "provenance": [],
      "authorship_tag": "ABX9TyNUrFkfZU5dTFWZhoaHM8zj",
      "include_colab_link": true
    },
    "kernelspec": {
      "display_name": "Python 3",
      "name": "python3"
    },
    "language_info": {
      "name": "python"
    }
  },
  "nbformat": 4,
  "nbformat_minor": 0
}